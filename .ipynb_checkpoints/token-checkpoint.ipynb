{
 "cells": [
  {
   "cell_type": "code",
   "execution_count": null,
   "id": "7d29c082-52e8-4daa-84ab-3e62cf3715e5",
   "metadata": {},
   "outputs": [],
   "source": [
    "### import libs\n",
    "import pandas as pd\n",
    "from keras.models import Sequential\n",
    "from keras.layers import Embedding, LSTM, Dense, Dropout\n",
    "from keras.preprocessing.text import Tokenizer\n",
    "from keras.preprocessing.sequence import pad_sequences"
   ]
  },
  {
   "cell_type": "code",
   "execution_count": null,
   "id": "4ee2d7db-3f47-4ca9-ace3-4b22b7beec69",
   "metadata": {},
   "outputs": [],
   "source": [
    "## dados\n",
    "\n",
    "frases = [\"eu amo Javascript\" , \"eu amo meu cahorro\", \"eu odeio segunda-feira\"]\n",
    "\n"
   ]
  },
  {
   "cell_type": "code",
   "execution_count": null,
   "id": "239d51b3-177c-42e8-a859-dd2957f1b6df",
   "metadata": {},
   "outputs": [],
   "source": [
    "tokenizer  = Tokenizer(num_words=5000)"
   ]
  }
 ],
 "metadata": {
  "kernelspec": {
   "display_name": "Python 3 (ipykernel)",
   "language": "python",
   "name": "python3"
  },
  "language_info": {
   "codemirror_mode": {
    "name": "ipython",
    "version": 3
   },
   "file_extension": ".py",
   "mimetype": "text/x-python",
   "name": "python",
   "nbconvert_exporter": "python",
   "pygments_lexer": "ipython3",
   "version": "3.12.2"
  }
 },
 "nbformat": 4,
 "nbformat_minor": 5
}
