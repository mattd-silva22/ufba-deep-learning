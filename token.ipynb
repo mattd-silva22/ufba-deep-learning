{
 "cells": [
  {
   "cell_type": "code",
   "execution_count": 1,
   "id": "7d29c082-52e8-4daa-84ab-3e62cf3715e5",
   "metadata": {},
   "outputs": [],
   "source": [
    "### import libs\n",
    "import pandas as pd\n",
    "from keras.models import Sequential\n",
    "from keras.layers import Embedding, LSTM, Dense, Dropout\n",
    "from tensorflow.keras.preprocessing.text import Tokenizer\n",
    "from keras.preprocessing.sequence import pad_sequences"
   ]
  },
  {
   "cell_type": "code",
   "execution_count": 5,
   "id": "4ee2d7db-3f47-4ca9-ace3-4b22b7beec69",
   "metadata": {},
   "outputs": [],
   "source": [
    "## dados\n",
    "\n",
    "df = pd.read_csv(\"dados.csv\")\n",
    "frases = [\"eu amo Javascript\" , \"eu amo meu cahorro\", \"eu odeio segunda-feira\"]\n",
    "\n"
   ]
  },
  {
   "cell_type": "code",
   "execution_count": 7,
   "id": "239d51b3-177c-42e8-a859-dd2957f1b6df",
   "metadata": {},
   "outputs": [
    {
     "name": "stdout",
     "output_type": "stream",
     "text": [
      "{'eu': 1, 'amo': 2, 'javascript': 3, 'meu': 4, 'cahorro': 5, 'odeio': 6, 'segunda': 7, 'feira': 8}\n"
     ]
    }
   ],
   "source": [
    "tokenizer  = Tokenizer(num_words=5000)\n",
    "tokenizer.fit_on_texts(frases)\n",
    "sequences = tokenizer.texts_to_sequences(frases)\n",
    "word_index = tokenizer.word_index\n",
    "print(word_index)"
   ]
  },
  {
   "cell_type": "code",
   "execution_count": null,
   "id": "412d26d2-d4f4-4250-b832-957f2d43d76b",
   "metadata": {},
   "outputs": [],
   "source": []
  },
  {
   "cell_type": "code",
   "execution_count": null,
   "id": "60c0880c-c76e-4354-8817-a083ee000725",
   "metadata": {},
   "outputs": [],
   "source": []
  }
 ],
 "metadata": {
  "kernelspec": {
   "display_name": "Python 3 (ipykernel)",
   "language": "python",
   "name": "python3"
  },
  "language_info": {
   "codemirror_mode": {
    "name": "ipython",
    "version": 3
   },
   "file_extension": ".py",
   "mimetype": "text/x-python",
   "name": "python",
   "nbconvert_exporter": "python",
   "pygments_lexer": "ipython3",
   "version": "3.12.2"
  }
 },
 "nbformat": 4,
 "nbformat_minor": 5
}
